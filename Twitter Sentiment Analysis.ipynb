{
 "cells": [
  {
   "cell_type": "markdown",
   "metadata": {},
   "source": [
    "# This project is about the sentimental analysis on tweets. Data will be fetched from twitter."
   ]
  },
  {
   "cell_type": "markdown",
   "metadata": {},
   "source": [
    "# Import The Libraries"
   ]
  },
  {
   "cell_type": "code",
   "execution_count": 1,
   "metadata": {},
   "outputs": [],
   "source": [
    "import tweepy\n",
    "import pandas as pd\n",
    "import numpy as np\n",
    "import re\n",
    "import matplotlib.pyplot as plt\n",
    "plt.style.use('fivethirtyeight')\n",
    "from textblob import TextBlob\n",
    "from wordcloud import WordCloud"
   ]
  },
  {
   "cell_type": "markdown",
   "metadata": {},
   "source": [
    "# Twitter API Credentials"
   ]
  },
  {
   "cell_type": "code",
   "execution_count": 2,
   "metadata": {},
   "outputs": [],
   "source": [
    "consumerKey = '1eJRcqFAfZrFrmeonazbsPkBb'\n",
    "consumerSecret = 'aMZaeho6VfqdzitrhjmCjy0ASqyv4aIDRgHEhYwEWVl3v440tP'\n",
    "accessToken = '1568361038-ZT3NjbYGlp48PDqKdUo7OIRcHDn7bPp1V3xjjFl'\n",
    "accessSecret = 'LtYXLVFda6dxO4NAOGLHX7AgW7kZtMkmvpdQpmFmHNvv7'"
   ]
  },
  {
   "cell_type": "markdown",
   "metadata": {},
   "source": [
    "# Authenticate Twitter API with Tweepy"
   ]
  },
  {
   "cell_type": "code",
   "execution_count": 3,
   "metadata": {},
   "outputs": [],
   "source": [
    "#Create the authentication object\n",
    "authenticate = tweepy.OAuthHandler(consumerKey, consumerSecret)\n",
    "\n",
    "#Set the access token and access token secret\n",
    "authenticate.set_access_token(accessToken,accessSecret)\n",
    "\n",
    "#Create the API object while passing in the auth information\n",
    "api = tweepy.API(authenticate,wait_on_rate_limit = True)"
   ]
  },
  {
   "cell_type": "markdown",
   "metadata": {},
   "source": [
    "# Extracting Tweets From Our Honourable PM Twitter Account"
   ]
  },
  {
   "cell_type": "code",
   "execution_count": 4,
   "metadata": {},
   "outputs": [
    {
     "name": "stdout",
     "output_type": "stream",
     "text": [
      "Show the 5 recent tweets : \n",
      "\n",
      "1) Our planet’s challenges can be overcome with a collective spirit and human centric approach. https://t.co/Zxlf3v1jPj\n",
      "\n",
      "2) Here is why India is the ideal destination for start-ups to flourish. https://t.co/u1ZQ7ZybsP\n",
      "\n",
      "3) Where conventions fail, innovation helps. https://t.co/TM2vHD1TxZ\n",
      "\n",
      "4) Addressing @VivaTech Summit. https://t.co/AIC6Zkcju5\n",
      "\n",
      "5) Tomorrow evening will be addressing @VivaTech via video conferencing. Through this forum, will be speaking about India’s strides in the world of tech and start-ups. https://t.co/3Z4zBftiPf\n",
      "\n"
     ]
    }
   ],
   "source": [
    "#Extract 100 tweets from the twitter User\n",
    "posts = api.user_timeline(screen_name = \"narendramodi\",count = 100,lang= \"en\", tweet_mode = \"extended\")\n",
    "\n",
    "#print the last 5 tweets from teh account\n",
    "print(\"Show the 5 recent tweets : \\n\")\n",
    "i = 1\n",
    "for tweet in posts[0:5]:\n",
    "    print(str(i) + ') ' +  tweet.full_text + '\\n')\n",
    "    i = i + 1"
   ]
  },
  {
   "cell_type": "markdown",
   "metadata": {},
   "source": [
    "# Creating DataFrame of Tweets"
   ]
  },
  {
   "cell_type": "code",
   "execution_count": 5,
   "metadata": {},
   "outputs": [
    {
     "data": {
      "text/html": [
       "<div>\n",
       "<style scoped>\n",
       "    .dataframe tbody tr th:only-of-type {\n",
       "        vertical-align: middle;\n",
       "    }\n",
       "\n",
       "    .dataframe tbody tr th {\n",
       "        vertical-align: top;\n",
       "    }\n",
       "\n",
       "    .dataframe thead th {\n",
       "        text-align: right;\n",
       "    }\n",
       "</style>\n",
       "<table border=\"1\" class=\"dataframe\">\n",
       "  <thead>\n",
       "    <tr style=\"text-align: right;\">\n",
       "      <th></th>\n",
       "      <th>Tweets</th>\n",
       "    </tr>\n",
       "  </thead>\n",
       "  <tbody>\n",
       "    <tr>\n",
       "      <th>0</th>\n",
       "      <td>Our planet’s challenges can be overcome with a...</td>\n",
       "    </tr>\n",
       "    <tr>\n",
       "      <th>1</th>\n",
       "      <td>Here is why India is the ideal destination for...</td>\n",
       "    </tr>\n",
       "    <tr>\n",
       "      <th>2</th>\n",
       "      <td>Where conventions fail, innovation helps. http...</td>\n",
       "    </tr>\n",
       "    <tr>\n",
       "      <th>3</th>\n",
       "      <td>Addressing @VivaTech Summit. https://t.co/AIC6...</td>\n",
       "    </tr>\n",
       "    <tr>\n",
       "      <th>4</th>\n",
       "      <td>Tomorrow evening will be addressing @VivaTech ...</td>\n",
       "    </tr>\n",
       "  </tbody>\n",
       "</table>\n",
       "</div>"
      ],
      "text/plain": [
       "                                              Tweets\n",
       "0  Our planet’s challenges can be overcome with a...\n",
       "1  Here is why India is the ideal destination for...\n",
       "2  Where conventions fail, innovation helps. http...\n",
       "3  Addressing @VivaTech Summit. https://t.co/AIC6...\n",
       "4  Tomorrow evening will be addressing @VivaTech ..."
      ]
     },
     "execution_count": 5,
     "metadata": {},
     "output_type": "execute_result"
    }
   ],
   "source": [
    "df = pd.DataFrame( [tweet.full_text for tweet in posts], columns = ['Tweets'])\n",
    "df.head()"
   ]
  },
  {
   "cell_type": "markdown",
   "metadata": {},
   "source": [
    "# Cleaning The Text"
   ]
  },
  {
   "cell_type": "code",
   "execution_count": 6,
   "metadata": {},
   "outputs": [],
   "source": [
    "#Creating a function to clean tweets\n",
    "def cleanTxt(text):\n",
    "    text = re.sub(r'@[a-zA-Z0-9]+','',text)  #remove @mention\n",
    "    text = re.sub(r'#','',text)              #remove # Sign\n",
    "    text = re.sub(r'RT[\\s]+','',text)        #remove RT\n",
    "    text = re.sub(r'https?:\\/\\/.*[\\r\\n]*','',text) #remove Links\n",
    "    \n",
    "    return text\n",
    "#Calling Function\n",
    "df['Tweets'] = df['Tweets'].apply(cleanTxt)"
   ]
  },
  {
   "cell_type": "markdown",
   "metadata": {},
   "source": [
    "# SHowing Cleaned Data"
   ]
  },
  {
   "cell_type": "code",
   "execution_count": 7,
   "metadata": {},
   "outputs": [
    {
     "data": {
      "text/html": [
       "<div>\n",
       "<style scoped>\n",
       "    .dataframe tbody tr th:only-of-type {\n",
       "        vertical-align: middle;\n",
       "    }\n",
       "\n",
       "    .dataframe tbody tr th {\n",
       "        vertical-align: top;\n",
       "    }\n",
       "\n",
       "    .dataframe thead th {\n",
       "        text-align: right;\n",
       "    }\n",
       "</style>\n",
       "<table border=\"1\" class=\"dataframe\">\n",
       "  <thead>\n",
       "    <tr style=\"text-align: right;\">\n",
       "      <th></th>\n",
       "      <th>Tweets</th>\n",
       "    </tr>\n",
       "  </thead>\n",
       "  <tbody>\n",
       "    <tr>\n",
       "      <th>0</th>\n",
       "      <td>Our planet’s challenges can be overcome with a...</td>\n",
       "    </tr>\n",
       "    <tr>\n",
       "      <th>1</th>\n",
       "      <td>Here is why India is the ideal destination for...</td>\n",
       "    </tr>\n",
       "    <tr>\n",
       "      <th>2</th>\n",
       "      <td>Where conventions fail, innovation helps.</td>\n",
       "    </tr>\n",
       "    <tr>\n",
       "      <th>3</th>\n",
       "      <td>Addressing  Summit.</td>\n",
       "    </tr>\n",
       "    <tr>\n",
       "      <th>4</th>\n",
       "      <td>Tomorrow evening will be addressing  via video...</td>\n",
       "    </tr>\n",
       "  </tbody>\n",
       "</table>\n",
       "</div>"
      ],
      "text/plain": [
       "                                              Tweets\n",
       "0  Our planet’s challenges can be overcome with a...\n",
       "1  Here is why India is the ideal destination for...\n",
       "2         Where conventions fail, innovation helps. \n",
       "3                               Addressing  Summit. \n",
       "4  Tomorrow evening will be addressing  via video..."
      ]
     },
     "execution_count": 7,
     "metadata": {},
     "output_type": "execute_result"
    }
   ],
   "source": [
    "df.head()"
   ]
  },
  {
   "cell_type": "markdown",
   "metadata": {},
   "source": [
    "# Applying Subjectivity"
   ]
  },
  {
   "cell_type": "markdown",
   "metadata": {},
   "source": [
    "Subjective sentences generally refer to personal opinion, emotion or judgment whereas objective refers to factual information. Subjectivity is also a float which lies in the range of [0,1]."
   ]
  },
  {
   "cell_type": "code",
   "execution_count": 8,
   "metadata": {},
   "outputs": [],
   "source": [
    "def getSubjectivity(text):\n",
    "    return TextBlob(text).sentiment.subjectivity\n",
    "df['Subjectivity'] = df['Tweets'].apply(getSubjectivity)"
   ]
  },
  {
   "cell_type": "markdown",
   "metadata": {},
   "source": [
    "# Applying Polarity"
   ]
  },
  {
   "cell_type": "markdown",
   "metadata": {},
   "source": [
    "Polarity, also known as orientation is he emotion expressed in the sentence. It can be positive, neagtive or neutral.Polarity is float which lies in the range of [-1,1] where 1 means positive statement and -1 means a negative statement"
   ]
  },
  {
   "cell_type": "code",
   "execution_count": 9,
   "metadata": {},
   "outputs": [],
   "source": [
    "def getPolarity(text):\n",
    "    return TextBlob(text).sentiment.polarity\n",
    "df['Polarity'] = df['Tweets'].apply(getPolarity)"
   ]
  },
  {
   "cell_type": "markdown",
   "metadata": {},
   "source": [
    "# Showing DataFrame with Subjectivity and Polarity"
   ]
  },
  {
   "cell_type": "code",
   "execution_count": 10,
   "metadata": {},
   "outputs": [
    {
     "data": {
      "text/html": [
       "<div>\n",
       "<style scoped>\n",
       "    .dataframe tbody tr th:only-of-type {\n",
       "        vertical-align: middle;\n",
       "    }\n",
       "\n",
       "    .dataframe tbody tr th {\n",
       "        vertical-align: top;\n",
       "    }\n",
       "\n",
       "    .dataframe thead th {\n",
       "        text-align: right;\n",
       "    }\n",
       "</style>\n",
       "<table border=\"1\" class=\"dataframe\">\n",
       "  <thead>\n",
       "    <tr style=\"text-align: right;\">\n",
       "      <th></th>\n",
       "      <th>Tweets</th>\n",
       "      <th>Subjectivity</th>\n",
       "      <th>Polarity</th>\n",
       "    </tr>\n",
       "  </thead>\n",
       "  <tbody>\n",
       "    <tr>\n",
       "      <th>0</th>\n",
       "      <td>Our planet’s challenges can be overcome with a...</td>\n",
       "      <td>0.1</td>\n",
       "      <td>0.0</td>\n",
       "    </tr>\n",
       "    <tr>\n",
       "      <th>1</th>\n",
       "      <td>Here is why India is the ideal destination for...</td>\n",
       "      <td>1.0</td>\n",
       "      <td>0.9</td>\n",
       "    </tr>\n",
       "    <tr>\n",
       "      <th>2</th>\n",
       "      <td>Where conventions fail, innovation helps.</td>\n",
       "      <td>0.3</td>\n",
       "      <td>-0.5</td>\n",
       "    </tr>\n",
       "    <tr>\n",
       "      <th>3</th>\n",
       "      <td>Addressing  Summit.</td>\n",
       "      <td>0.0</td>\n",
       "      <td>0.0</td>\n",
       "    </tr>\n",
       "    <tr>\n",
       "      <th>4</th>\n",
       "      <td>Tomorrow evening will be addressing  via video...</td>\n",
       "      <td>0.0</td>\n",
       "      <td>0.0</td>\n",
       "    </tr>\n",
       "  </tbody>\n",
       "</table>\n",
       "</div>"
      ],
      "text/plain": [
       "                                              Tweets  Subjectivity  Polarity\n",
       "0  Our planet’s challenges can be overcome with a...           0.1       0.0\n",
       "1  Here is why India is the ideal destination for...           1.0       0.9\n",
       "2         Where conventions fail, innovation helps.            0.3      -0.5\n",
       "3                               Addressing  Summit.            0.0       0.0\n",
       "4  Tomorrow evening will be addressing  via video...           0.0       0.0"
      ]
     },
     "execution_count": 10,
     "metadata": {},
     "output_type": "execute_result"
    }
   ],
   "source": [
    "df.head()"
   ]
  },
  {
   "cell_type": "markdown",
   "metadata": {},
   "source": [
    "# Plotting WordCloud"
   ]
  },
  {
   "cell_type": "code",
   "execution_count": 17,
   "metadata": {
    "scrolled": true
   },
   "outputs": [
    {
     "data": {
      "image/png": "[encoded data removed]",
      "text/plain": [
       "<Figure size 432x288 with 1 Axes>"
      ]
     },
     "metadata": {},
     "output_type": "display_data"
    }
   ],
   "source": [
    "allWords = ' '.join( [twts for twts in df['Tweets']])\n",
    "wordCloud = WordCloud(width = 500, height = 300,background_color=\"white\", random_state = 23, max_font_size = 100).generate(allWords)\n",
    "\n",
    "plt.imshow(wordCloud , interpolation = \"bilinear\")\n",
    "plt.axis('off')\n",
    "plt.show()"
   ]
  },
  {
   "cell_type": "markdown",
   "metadata": {},
   "source": [
    "# Analyzing The Tweets"
   ]
  },
  {
   "cell_type": "code",
   "execution_count": 18,
   "metadata": {},
   "outputs": [],
   "source": [
    "#Creating a function to Analyze the tweets on basis of Polarity\n",
    "def getAnalysis(score):\n",
    "    if score < 0:\n",
    "        return 'Negative'\n",
    "    elif score == 0:\n",
    "        return 'Neutral'\n",
    "    else:\n",
    "        return 'Positive'\n",
    "    \n",
    "df['Analysis'] = df['Polarity'].apply(getAnalysis)"
   ]
  },
  {
   "cell_type": "markdown",
   "metadata": {},
   "source": [
    "# Showing DataFrame"
   ]
  },
  {
   "cell_type": "code",
   "execution_count": 20,
   "metadata": {},
   "outputs": [
    {
     "data": {
      "text/html": [
       "<div>\n",
       "<style scoped>\n",
       "    .dataframe tbody tr th:only-of-type {\n",
       "        vertical-align: middle;\n",
       "    }\n",
       "\n",
       "    .dataframe tbody tr th {\n",
       "        vertical-align: top;\n",
       "    }\n",
       "\n",
       "    .dataframe thead th {\n",
       "        text-align: right;\n",
       "    }\n",
       "</style>\n",
       "<table border=\"1\" class=\"dataframe\">\n",
       "  <thead>\n",
       "    <tr style=\"text-align: right;\">\n",
       "      <th></th>\n",
       "      <th>Tweets</th>\n",
       "      <th>Subjectivity</th>\n",
       "      <th>Polarity</th>\n",
       "      <th>Analysis</th>\n",
       "    </tr>\n",
       "  </thead>\n",
       "  <tbody>\n",
       "    <tr>\n",
       "      <th>0</th>\n",
       "      <td>Our planet’s challenges can be overcome with a...</td>\n",
       "      <td>0.10</td>\n",
       "      <td>0.0</td>\n",
       "      <td>Neutral</td>\n",
       "    </tr>\n",
       "    <tr>\n",
       "      <th>1</th>\n",
       "      <td>Here is why India is the ideal destination for...</td>\n",
       "      <td>1.00</td>\n",
       "      <td>0.9</td>\n",
       "      <td>Positive</td>\n",
       "    </tr>\n",
       "    <tr>\n",
       "      <th>2</th>\n",
       "      <td>Where conventions fail, innovation helps.</td>\n",
       "      <td>0.30</td>\n",
       "      <td>-0.5</td>\n",
       "      <td>Negative</td>\n",
       "    </tr>\n",
       "    <tr>\n",
       "      <th>3</th>\n",
       "      <td>Addressing  Summit.</td>\n",
       "      <td>0.00</td>\n",
       "      <td>0.0</td>\n",
       "      <td>Neutral</td>\n",
       "    </tr>\n",
       "    <tr>\n",
       "      <th>4</th>\n",
       "      <td>Tomorrow evening will be addressing  via video...</td>\n",
       "      <td>0.00</td>\n",
       "      <td>0.0</td>\n",
       "      <td>Neutral</td>\n",
       "    </tr>\n",
       "    <tr>\n",
       "      <th>...</th>\n",
       "      <td>...</td>\n",
       "      <td>...</td>\n",
       "      <td>...</td>\n",
       "      <td>...</td>\n",
       "    </tr>\n",
       "    <tr>\n",
       "      <th>95</th>\n",
       "      <td>कोरोना ने हमसे कई अपनों को छीना है। मैं उन सभी...</td>\n",
       "      <td>0.00</td>\n",
       "      <td>0.0</td>\n",
       "      <td>Neutral</td>\n",
       "    </tr>\n",
       "    <tr>\n",
       "      <th>96</th>\n",
       "      <td>Passing away of Shri Sunderlal Bahuguna Ji is ...</td>\n",
       "      <td>0.35</td>\n",
       "      <td>0.3</td>\n",
       "      <td>Positive</td>\n",
       "    </tr>\n",
       "    <tr>\n",
       "      <th>97</th>\n",
       "      <td>Reviewing COVID-19 situation in Kashi with doc...</td>\n",
       "      <td>0.00</td>\n",
       "      <td>0.0</td>\n",
       "      <td>Neutral</td>\n",
       "    </tr>\n",
       "    <tr>\n",
       "      <th>98</th>\n",
       "      <td>At 11 AM tomorrow, 21st May, will be interacti...</td>\n",
       "      <td>0.00</td>\n",
       "      <td>0.0</td>\n",
       "      <td>Neutral</td>\n",
       "    </tr>\n",
       "    <tr>\n",
       "      <th>99</th>\n",
       "      <td>Congratulations to Shri  Ji on taking oath as ...</td>\n",
       "      <td>0.00</td>\n",
       "      <td>0.0</td>\n",
       "      <td>Neutral</td>\n",
       "    </tr>\n",
       "  </tbody>\n",
       "</table>\n",
       "<p>100 rows × 4 columns</p>\n",
       "</div>"
      ],
      "text/plain": [
       "                                               Tweets  Subjectivity  Polarity  \\\n",
       "0   Our planet’s challenges can be overcome with a...          0.10       0.0   \n",
       "1   Here is why India is the ideal destination for...          1.00       0.9   \n",
       "2          Where conventions fail, innovation helps.           0.30      -0.5   \n",
       "3                                Addressing  Summit.           0.00       0.0   \n",
       "4   Tomorrow evening will be addressing  via video...          0.00       0.0   \n",
       "..                                                ...           ...       ...   \n",
       "95  कोरोना ने हमसे कई अपनों को छीना है। मैं उन सभी...          0.00       0.0   \n",
       "96  Passing away of Shri Sunderlal Bahuguna Ji is ...          0.35       0.3   \n",
       "97  Reviewing COVID-19 situation in Kashi with doc...          0.00       0.0   \n",
       "98  At 11 AM tomorrow, 21st May, will be interacti...          0.00       0.0   \n",
       "99  Congratulations to Shri  Ji on taking oath as ...          0.00       0.0   \n",
       "\n",
       "    Analysis  \n",
       "0    Neutral  \n",
       "1   Positive  \n",
       "2   Negative  \n",
       "3    Neutral  \n",
       "4    Neutral  \n",
       "..       ...  \n",
       "95   Neutral  \n",
       "96  Positive  \n",
       "97   Neutral  \n",
       "98   Neutral  \n",
       "99   Neutral  \n",
       "\n",
       "[100 rows x 4 columns]"
      ]
     },
     "execution_count": 20,
     "metadata": {},
     "output_type": "execute_result"
    }
   ],
   "source": [
    "df"
   ]
  },
  {
   "cell_type": "markdown",
   "metadata": {},
   "source": [
    "# Displaying All Positive Tweets"
   ]
  },
  {
   "cell_type": "code",
   "execution_count": 27,
   "metadata": {},
   "outputs": [
    {
     "name": "stdout",
     "output_type": "stream",
     "text": [
      "1) Here is why India is the ideal destination for start-ups to flourish. \n",
      "\n",
      "2) Best wishes on the auspicious occasion of Raja Parba. I pray for the good health and well-being of everyone.\n",
      "\n",
      "3) As you complete your successful tenure as the Prime Minister of the State of Israel, I convey my profound gratitude for your leadership and personal attention to India-Israel strategic partnership .\n",
      "\n",
      "4) Excellency , congratulations on becoming the Prime Minister of Israel. As we celebrate 30 years of the upgradation of diplomatic relations next year, I look forward to meeting you and deepening the strategic partnership between our two countries. \n",
      "\n",
      "5) Also participated in the  session on Climate and reiterated India's strong commitment to climate action. India is the only G20 country on track to meet its Paris Commitments. And Indian Railways is committed to \"Net Zero\" by 2030.\n",
      "\n",
      "6) Was happy to address the  Session on Open Societies as a Lead Speaker. Democracy and freedom are part of India's civilizational ethos, and find expression in the vibrancy and diversity of India's society. \n",
      "\n",
      "7) Very good initiative!   \n",
      "\n",
      "\n",
      "\n",
      "8) Participated in the  Summit session on Health. Thanked partners for the support during the recent COVID-19 wave. \n",
      "\n",
      "India supports global action to prevent future pandemics. \n",
      "\n",
      "\"One Earth, One Health\" is our message to humanity. G7UK \n",
      "\n",
      "9) Collective efforts are important towards achieving sustainable and inclusive growth. \n",
      "\n",
      "10) India’s Aspirational Districts Programme aims to ensure inclusive &amp; all-round development in areas across our nation. Under this programme, many districts have witnessed holistic transformation. Glad to see the  report highlight its salient features. \n",
      "\n",
      "11) Dr. Siddalingaiah will be remembered for his prolific writings, poetry and contributions towards social justice. Saddened by his passing away. My thoughts are with his family and many admirers in this hour of sadness. Om Shanti.\n",
      "\n",
      "12) Dr. Ashok Panagariya made a mark as an outstanding neurologist. His pioneering work in the medical field will benefit generations of doctors and researchers. Saddened by his demise. Condolences to his family and friends. Om Shanti.\n",
      "\n",
      "13) Shri Dingko Singh was a sporting superstar, an outstanding boxer who earned several laurels and also contributed to furthering the popularity of boxing. Saddened by his passing away. Condolences to his family and admirers. Om Shanti.\n",
      "\n",
      "14) Congratulations to ,  and . Efforts are underway to ensure more universities and institutions of India scale global excellence and support intellectual prowess among the youth. \n",
      "\n",
      "\n",
      "\n",
      "15) Today's Cabinet decision augurs well for the Railways, particularly in terms of furthering safety, security and efficiency. \n",
      "\n",
      "\n",
      "\n",
      "16) Here is an interesting opportunity for youngsters to harness their writing skills and also contribute to India's intellectual discourse. Know more... \n",
      "\n",
      "\n",
      "\n",
      "17) Some people thrive on creating panic and furthering vaccine hesitancy. \n",
      "\n",
      "Such elements are doing a great disservice to the efforts to make our planet COVID-free. \n",
      "\n",
      "18) India’s vaccination programme, which started in January was guided by global best practices. \n",
      "\n",
      "Later on, a series of demands and feedback was given, which was duly accepted. \n",
      "\n",
      "19) India is proud of our scientists and innovators who have made indelible contributions towards defeating COVID-19. \n",
      "\n",
      "20) At 11 AM tomorrow, 5th June will take part in the World Environment Programme on the theme of ‘promotion of biofuels for better environment.’ Would also interact with farmers to hear their experiences of using ethanol and biogas. \n",
      "\n",
      "21) Padma Vibhushan Sir Anerood Jugnauth, a tall leader &amp; statesman, was the architect of modern Mauritius. A proud Pravasi Bharatiya, he helped forge the special bilateral relationship that will benefit from his legacy. Condolences to his family &amp; the people of Mauritius. Om Shanti. \n",
      "\n",
      "22) We also discussed ongoing efforts to further strengthen India-US vaccine cooperation, and the potential of our partnership to contribute to post-Covid global health and economic recovery.\n",
      "\n",
      "23) Earlier today, reviewed India’s Olympic preparations for the upcoming Tokyo games. Discussed the steps taken for supporting our sportspersons as they head to the games. \n",
      "\n",
      "24) It has been a chaotic year for students. The joys of growing up partly snatched away, confined to their homes, less time with friends. \n",
      "\n",
      "As you said, in the current times, this was the best and most student friendly decision. \n",
      "\n",
      "25) The teaching community has played an outstanding role in the last year. I would like to applaud all the teachers for supporting the students and ensuring that the education journey continues under the new normal. \n",
      "\n",
      "26) Best wishes to the people of Telangana on the state’s Formation Day. The state is blessed with a unique culture and hardworking people who have excelled in many areas. Praying for the good health and well-being of the people of Telangana.\n",
      "\n",
      "27) Greetings to the people of Goa on their Statehood Day. May the state scale new heights of progress. I pray for the good health and well-being of the people of Goa.\n",
      "\n",
      "28) At a time when everybody wants to run away from Coronavirus, our lab technicians do not have that luxury. In the last one year, these lab technicians have strengthened our testing apparatus. Spoke to Prakash Kandpal Ji, a senior lab technician during MannKiBaat. \n",
      "\n",
      "29) Our Nari Shakti is at the forefront of helping others.\n",
      "\n",
      "Sireesha Ji is a loco pilot who has operated an all-woman Oxygen Special train. Among other things, she highlights the motivation she received from her parents to help others. MannKiBaat \n",
      "\n",
      "30) Group Captain Patnaik, like several other colleagues of the Air Force, has been busy with sorties to boost oxygen supply. He shares his experience of the last few weeks. I also had a wonderful interaction with his daughter Aditi. MannKiBaat \n",
      "\n",
      "31) Dinesh Upadhyay Ji belongs to Jaunpur, UP. He has been driving a truck for years but in the time of COVID-19 he has been transporting oxygen to various parts. He has not met his family for months but says he feels more satisfied when those in need get oxygen. MannKiBaat \n",
      "\n",
      "32) Had a very productive review meeting in Bhubaneswar. We will continue working together to strengthen disaster management capabilities, an area where Odisha has made commendable strides. \n",
      "\n",
      "33) Took stock of the progress of the National Digital Health Mission, a futuristic endeavour that will ensure a range of top quality health services to our citizens and give a boost to ‘Ease of Living.' \n",
      "\n",
      "34) Spoke to my dear friend President . I thanked him for France’s prompt assistance to India’s COVID-19 response. We also discussed bilateral, regional and global issues, including cooperation in climate action and Indo-Pacific.\n",
      "\n",
      "35) Speaking at the Vesak Day programme. \n",
      "\n",
      "We remember the noble ideals of Lord Buddha. \n",
      "\n",
      "36) Dr. Srikumar Banerjee will be remembered for his pioneering contributions to Indian science, especially in the areas of atomic energy and metallurgy. He was also an outstanding mentor and institution builder. Saddened by his passing away. Condolences to his family. Om Shanti.\n",
      "\n",
      "37) Passing away of Shri Sunderlal Bahuguna Ji is a monumental loss for our nation. He manifested our centuries old ethos of living in harmony with nature. His simplicity and spirit of compassion will never be forgotten. My thoughts are with his family and many admirers. Om Shanti.\n",
      "\n"
     ]
    }
   ],
   "source": [
    "j =1\n",
    "sortedDF = df.sort_values(by=['Polarity'])\n",
    "for i in range(0,sortedDF.shape[0]):\n",
    "    if (sortedDF['Analysis'][i] == 'Positive'):\n",
    "        print(str(j) + ') ' + sortedDF['Tweets'][i])\n",
    "        print()\n",
    "        j = j +1"
   ]
  },
  {
   "cell_type": "markdown",
   "metadata": {},
   "source": [
    "# Displaying The Negative Tweets"
   ]
  },
  {
   "cell_type": "code",
   "execution_count": 29,
   "metadata": {},
   "outputs": [
    {
     "name": "stdout",
     "output_type": "stream",
     "text": [
      "1) Where conventions fail, innovation helps. \n",
      "\n",
      "2) Swami Shivamayanandaji Maharaj of the Ramakrishna Math was actively involved in a wide range of community service initiatives focused on social empowerment. His contributions to the worlds of culture and spirituality will always be remembered. Saddened by his demise. Om Shanti.\n",
      "\n",
      "3) Prof Radhamohan Ji was deeply passionate about agriculture, especially adopting sustainable and organic practices. He was also respected for his knowledge on subjects relating to the economy and ecology. Saddened by his demise. Condolences to his family and admirers. Om Shanti.\n",
      "\n",
      "4) Anguished by the demise of Shri Buddhadeb Dasgupta. His diverse works struck a chord with all sections of society. He was also an eminent thinker and poet. My thoughts are with his family and several admirers in this time of grief. Om Shanti.\n",
      "\n",
      "5) My thoughts are with all those who lost their near and dear ones due to lightning in parts of West Bengal. May the injured recover at the earliest.\n",
      "\n",
      "6) Pained by the loss of lives due to a fire at a factory in Pune, Maharashtra. Condolences to the bereaved families.\n",
      "\n",
      "7) I called  Pravind Jugnauth to convey heartfelt condolences on the sad demise of Sir Anerood Jugnauth. He will be remembered as one of the tallest leaders of the Indian Ocean Region and a principal architect of India's special friendship with Mauritius.\n",
      "\n",
      "8) Family Pension under ESIC and EPFO- Employees’ Deposit Linked Insurance Scheme will provide a financial cushion to those families who have lost their earning member due to COVID-19. GOI stands in solidarity with these families. \n",
      "\n",
      "9) Reviewed the situation arising due to Cyclone Yaas. Discussed the preparedness, relief and rehabilitation efforts as well as other aspects. \n",
      "\n",
      "10) Emphasised on timely evacuation as well as ensuring power and communications networks are not disrupted. Also emphasised on ensuring  COVID-19 treatment of patients in affected areas does not suffer due to the cyclone. \n",
      "\n",
      "Praying for everyone’s safety and well-being.\n",
      "\n"
     ]
    }
   ],
   "source": [
    "j =1\n",
    "sortedDF = df.sort_values(by=['Polarity'], ascending = False)\n",
    "for i in range(0,sortedDF.shape[0]):\n",
    "    if (sortedDF['Analysis'][i] == 'Negative'):\n",
    "        print(str(j) + ') ' + sortedDF['Tweets'][i])\n",
    "        print()\n",
    "        j = j +1"
   ]
  },
  {
   "cell_type": "markdown",
   "metadata": {},
   "source": [
    "# Plot Polarity and Subjectivity"
   ]
  },
  {
   "cell_type": "code",
   "execution_count": 31,
   "metadata": {},
   "outputs": [
    {
     "data": {
      "image/png": "[encoded data removed]",
      "text/plain": [
       "<Figure size 576x432 with 1 Axes>"
      ]
     },
     "metadata": {},
     "output_type": "display_data"
    }
   ],
   "source": [
    "plt.figure(figsize =(8,6))\n",
    "for i in range(0,df.shape[0]):\n",
    "    plt.scatter(df['Polarity'][i], df['Subjectivity'][i], color = \"Blue\")\n",
    "    \n",
    "plt.title('Sentiment Analysis')\n",
    "plt.xlabel('Polarity')\n",
    "plt.ylabel('Subjectivity')\n",
    "plt.show()"
   ]
  },
  {
   "cell_type": "markdown",
   "metadata": {},
   "source": [
    "# Getting Percentage of Neutral Tweets"
   ]
  },
  {
   "cell_type": "code",
   "execution_count": 33,
   "metadata": {},
   "outputs": [
    {
     "data": {
      "text/plain": [
       "53.0"
      ]
     },
     "execution_count": 33,
     "metadata": {},
     "output_type": "execute_result"
    }
   ],
   "source": [
    "ntweets = df[df.Analysis == 'Neutral']\n",
    "ntweets = ntweets['Tweets']\n",
    "\n",
    "round((ntweets.shape[0] / df.shape[0]) * 100, 1)"
   ]
  },
  {
   "cell_type": "markdown",
   "metadata": {},
   "source": [
    "# Getting Percentage of Positive Tweets"
   ]
  },
  {
   "cell_type": "code",
   "execution_count": 35,
   "metadata": {},
   "outputs": [
    {
     "data": {
      "text/plain": [
       "37.0"
      ]
     },
     "execution_count": 35,
     "metadata": {},
     "output_type": "execute_result"
    }
   ],
   "source": [
    "ptweets = df[df.Analysis == 'Positive']\n",
    "ptweets = ptweets['Tweets']\n",
    "\n",
    "round((ptweets.shape[0] / df.shape[0]) * 100, 1)"
   ]
  },
  {
   "cell_type": "markdown",
   "metadata": {},
   "source": [
    "# Getting Percentage of Negative Tweets"
   ]
  },
  {
   "cell_type": "code",
   "execution_count": 37,
   "metadata": {},
   "outputs": [
    {
     "data": {
      "text/plain": [
       "10.0"
      ]
     },
     "execution_count": 37,
     "metadata": {},
     "output_type": "execute_result"
    }
   ],
   "source": [
    "netweets = df[df.Analysis == 'Negative']\n",
    "netweets = netweets['Tweets']\n",
    "\n",
    "round((netweets.shape[0] / df.shape[0]) * 100, 1)"
   ]
  },
  {
   "cell_type": "markdown",
   "metadata": {},
   "source": [
    "# Show the Value Counts"
   ]
  },
  {
   "cell_type": "code",
   "execution_count": 38,
   "metadata": {},
   "outputs": [
    {
     "data": {
      "text/plain": [
       "Neutral     53\n",
       "Positive    37\n",
       "Negative    10\n",
       "Name: Analysis, dtype: int64"
      ]
     },
     "execution_count": 38,
     "metadata": {},
     "output_type": "execute_result"
    }
   ],
   "source": [
    "df['Analysis'].value_counts()"
   ]
  },
  {
   "cell_type": "markdown",
   "metadata": {},
   "source": [
    "# plot and visualize the counts"
   ]
  },
  {
   "cell_type": "code",
   "execution_count": 42,
   "metadata": {},
   "outputs": [
    {
     "data": {
      "image/png": "[encoded data removed]",
      "text/plain": [
       "<Figure size 432x288 with 1 Axes>"
      ]
     },
     "metadata": {},
     "output_type": "display_data"
    }
   ],
   "source": [
    "plt.title('Sentiment Analysis')\n",
    "plt.xlabel('Sentiment')\n",
    "plt.ylabel('Counts')\n",
    "\n",
    "df['Analysis'].value_counts().plot(kind = 'pie')\n",
    "plt.show()"
   ]
  },
  {
   "cell_type": "code",
   "execution_count": 43,
   "metadata": {},
   "outputs": [
    {
     "data": {
      "image/png": "[encoded data removed]",
      "text/plain": [
       "<Figure size 432x288 with 1 Axes>"
      ]
     },
     "metadata": {},
     "output_type": "display_data"
    }
   ],
   "source": [
    "plt.title('Sentiment Analysis')\n",
    "plt.xlabel('Sentiment')\n",
    "plt.ylabel('Counts')\n",
    "\n",
    "df['Analysis'].value_counts().plot(kind = 'bar')\n",
    "plt.show()"
   ]
  },
  {
   "cell_type": "code",
   "execution_count": null,
   "metadata": {},
   "outputs": [],
   "source": []
  }
 ],
 "metadata": {
  "kernelspec": {
   "display_name": "Python 3",
   "language": "python",
   "name": "python3"
  },
  "language_info": {
   "codemirror_mode": {
    "name": "ipython",
    "version": 3
   },
   "file_extension": ".py",
   "mimetype": "text/x-python",
   "name": "python",
   "nbconvert_exporter": "python",
   "pygments_lexer": "ipython3",
   "version": "3.8.5"
  }
 },
 "nbformat": 4,
 "nbformat_minor": 4
}
